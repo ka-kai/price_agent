{
 "cells": [
  {
   "cell_type": "code",
   "execution_count": null,
   "metadata": {
    "collapsed": true
   },
   "outputs": [],
   "source": [
    "# IMPORTS\n",
    "import dotenv\n",
    "import matplotlib.pyplot as plt\n",
    "import matplotlib.dates as mdates\n",
    "import os\n",
    "from pathlib import Path\n",
    "\n",
    "# RELATIVE\n",
    "import plots as pl\n",
    "from analysis_utils import print_metrics, read_time_series_from_file"
   ]
  },
  {
   "cell_type": "code",
   "execution_count": null,
   "outputs": [],
   "source": [
    "# LOAD ENVIRONMENT VARIABLES\n",
    "dotenv.load_dotenv(\"../config/local.env\")"
   ],
   "metadata": {
    "collapsed": false
   }
  },
  {
   "cell_type": "code",
   "execution_count": null,
   "outputs": [],
   "source": [
    "# GENERAL SETTINGS\n",
    "path_res = Path(os.environ[\"PATH_SIM_RESULTS\"])  # results directory\n",
    "path_output = Path(os.environ[\"PATH_ANALYSIS_RESULTS\"])  # output directory\n",
    "file_res = \"df_evaluation.csv\"  # file name evaluation results\n",
    "flag_cust_res = True  # if True, the number of unblocked devices is included in the time series plots\n",
    "list_metrics = [\"sum_p_tot_sq_eval\", \"max_p_tot_eval\", \"cost_1_eval\"]  # which metrics to print\n",
    "colors_single_days = [\"red\", # inflexible load\n",
    "                      \"green80\",  # no control case\n",
    "                      \"blue\"]  # RL agent\n",
    "colors_single_days = [pl.utils.dict_colors[c] for c in colors_single_days]\n",
    "alpha_mean_daily = 0.9  # transparency of the lines in the mean daily plots\n",
    "tz_plots = \"Europe/Zurich\"  # time zone for the plots"
   ],
   "metadata": {
    "collapsed": false
   }
  },
  {
   "cell_type": "markdown",
   "source": [
    "# WINTER"
   ],
   "metadata": {
    "collapsed": false
   }
  },
  {
   "cell_type": "code",
   "execution_count": null,
   "outputs": [],
   "source": [
    "# PATHS\n",
    "# Specify the directory names with the simulation results for the different cases\n",
    "dict_res_w = {  # Note: the order matters; put RL case last such that it is in the foreground\n",
    "    \"prop\": {\n",
    "        \"dir\": \"240310_150456_prop_infl_per_day_dynamic\",\n",
    "        \"label\": \"Proportional price\",\n",
    "        \"color\": \"bronze\"\n",
    "    },\n",
    "    \"none\": {\n",
    "        \"dir\": \"240319_132440_none_none_winter\",\n",
    "        \"label\": \"No control\",\n",
    "        \"color\": \"green80\"\n",
    "    },\n",
    "    \"rl\": {\n",
    "        \"dir\": \"240304_201013_rl_dynamic/final_eval\",  # use /, not \\\n",
    "        \"label\": \"RL agent\",\n",
    "        \"color\": \"blue\"\n",
    "    },\n",
    "}\n",
    "# Reformat to dictionary with dataframes, needed for some plot functions\n",
    "dict_data_w = {}\n",
    "for k, v in dict_res_w.items():\n",
    "    df = read_time_series_from_file(path_res / v[\"dir\"] / file_res, tz=tz_plots)\n",
    "    dict_data_w[v[\"label\"]] = (df, pl.dict_colors[v[\"color\"]])\n",
    "# Add inflexible load at the beginning of the dictionary\n",
    "df_infl = dict_data_w[\"RL agent\"][0].copy().loc[:, [\"p_infl\"]].rename(columns={\"p_infl\": \"p_tot\"})\n",
    "dict_data_w = {\"$P^{\\mathrm{infl}}$\": (df_infl, pl.dict_colors[\"red\"]), **dict_data_w}"
   ],
   "metadata": {
    "collapsed": false
   }
  },
  {
   "cell_type": "code",
   "execution_count": null,
   "outputs": [],
   "source": [
    "# METRICS\n",
    "print_metrics(path_res=path_res, dict_res=dict_res_w, list_metrics=list_metrics)"
   ],
   "metadata": {
    "collapsed": false
   }
  },
  {
   "cell_type": "code",
   "execution_count": null,
   "outputs": [],
   "source": [
    "# PLOT TIME SERIES\n",
    "with plt.rc_context(pl.params.single_days):\n",
    "    # Extreme days\n",
    "    _ = pl.plot_single_days(path_res=path_res,\n",
    "                            dict_res=dict_res_w,\n",
    "                            path_output=path_output,\n",
    "                            tz_plots=tz_plots,\n",
    "                            flag_cust_res=flag_cust_res,\n",
    "                            list_colors=colors_single_days,\n",
    "                            lw_legend_frame=0.2)\n",
    "    # Flat price profile\n",
    "    list_days = [(23, 2022, \"flat_price\")]\n",
    "    _ = pl.plot_single_days(path_res=path_res,\n",
    "                            dict_res=dict_res_w,\n",
    "                            path_output=path_output,\n",
    "                            tz_plots=tz_plots,\n",
    "                            flag_cust_res=flag_cust_res,\n",
    "                            list_colors=colors_single_days,\n",
    "                            lw_legend_frame=0.2,\n",
    "                            list_days=list_days)"
   ],
   "metadata": {
    "collapsed": false
   }
  },
  {
   "cell_type": "code",
   "execution_count": null,
   "outputs": [],
   "source": [
    "# PLOT DURATION CURVE\n",
    "with plt.rc_context(pl.params.duration):\n",
    "    _ = pl.plot_multiple_duration_curves(dict_data=dict_data_w,\n",
    "                                         col=\"p_tot\",\n",
    "                                         flag_axins_max=True,\n",
    "                                         axins_max=[0.5, 0.62, 0.48, 0.32],\n",
    "                                         axins_max_cords=[-0.05, 0.5, 75, 135],\n",
    "                                         axins_x_loc=0.2,\n",
    "                                         axins_y_loc=25,\n",
    "                                         figsize=(3.3, 1),\n",
    "                                         path_output=path_output / f\"{dict_res_w['rl']['dir'].split('/')[0]}_duration.png\"\n",
    "                                         )"
   ],
   "metadata": {
    "collapsed": false
   }
  },
  {
   "cell_type": "code",
   "execution_count": null,
   "outputs": [],
   "source": [
    "# PLOT MEAN DAILY PROFILES\n",
    "list_cols = [[\"p_tot\", \"$P^{\\mathrm{tot}}$\"],\n",
    "             [\"p_wh\", \"$P^{\\mathrm{EWH}}$\"],\n",
    "             [\"p_hp\", \"$P^{\\mathrm{HP}}$\"],\n",
    "             [\"p_ev\", \"$P^{\\mathrm{EV}}$\"]]\n",
    "with plt.rc_context(pl.params.mean_daily):\n",
    "    _ = pl.plot_mean_daily(dict_data=dict_data_w,\n",
    "                           list_cols=list_cols,\n",
    "                           fontsize_ylabel=7,\n",
    "                           alpha=alpha_mean_daily,\n",
    "                           args_legend={\"loc\": \"center\",\n",
    "                                        \"bbox_to_anchor\": (0.45, 0.98),\n",
    "                                        \"ncol\": 4,\n",
    "                                        \"columnspacing\":0.64,\n",
    "                                        \"borderpad\": 0.3\n",
    "                                        },\n",
    "                           figsize=(2.15, 1.1),\n",
    "                           path_output=path_output / f\"{dict_res_w['rl']['dir'].split('/')[0]}_mean_daily.png\"\n",
    "                           )"
   ],
   "metadata": {
    "collapsed": false
   }
  },
  {
   "cell_type": "code",
   "execution_count": null,
   "outputs": [],
   "source": [
    "# HEATMAP PRICE\n",
    "with plt.rc_context(pl.params.heatmap):\n",
    "    fig = pl.HeatmapFigure(series=dict_data_w[\"RL agent\"][0].loc[:, \"price_n\"],\n",
    "                           figsize=(1, 1.1),\n",
    "                           flag_histx=False,\n",
    "                           flag_histy=False,\n",
    "                           cbar_label=\"\",\n",
    "                           annotate_suntimes=False,\n",
    "                           )\n",
    "    # Adjustments\n",
    "    fig.ax_heatmap.xaxis.set_major_formatter(mdates.DateFormatter(\"%b '%y\"))\n",
    "    fig.ax_heatmap.xaxis.set_major_locator(mdates.MonthLocator(interval=1))\n",
    "    fig.ax_heatmap.xaxis.set_minor_locator(mdates.MonthLocator())\n",
    "    fig.savefig(path_output / f\"{dict_res_w['rl']['dir'].split('/')[0]}_heatmap_price_n.png\")"
   ],
   "metadata": {
    "collapsed": false
   }
  },
  {
   "cell_type": "markdown",
   "source": [
    "# SUMMER"
   ],
   "metadata": {
    "collapsed": false
   }
  },
  {
   "cell_type": "code",
   "execution_count": null,
   "outputs": [],
   "source": [
    "# PATHS\n",
    "dict_res_s = {  # Note: the order matters; put RL case last such that it is in the foreground\n",
    "    \"prop\": {\n",
    "        \"dir\": \"240311_072240_prop_infl_per_day_dynamic\",\n",
    "        \"label\": \"Proportional price\",\n",
    "        \"color\": \"bronze\"\n",
    "    },\n",
    "    \"none\": {\n",
    "        \"dir\": \"240319_132617_none_none_summer\",\n",
    "        \"label\": \"No control\",\n",
    "        \"color\": \"green80\"\n",
    "    },\n",
    "    \"rl\": {\n",
    "        \"dir\": \"240308_203551_rl_dynamic/final_eval\",  # use /, not \\\n",
    "        \"label\": \"RL agent\",\n",
    "        \"color\": \"blue\"\n",
    "    }\n",
    "}\n",
    "# Reformat to dictionary with dataframes, needed for some plot functions\n",
    "dict_data_s = {}\n",
    "for k, v in dict_res_s.items():\n",
    "    df = read_time_series_from_file(path_res / v[\"dir\"] / file_res, tz=tz_plots)\n",
    "    dict_data_s[v[\"label\"]] = (df, pl.dict_colors[v[\"color\"]])\n",
    "# Add inflexible load at the beginning of the dictionary\n",
    "df_infl = dict_data_s[\"RL agent\"][0].copy().loc[:, [\"p_infl\"]].rename(columns={\"p_infl\": \"p_tot\"})\n",
    "dict_data_s = {\"$P^{\\mathrm{infl}}$\": (df_infl, pl.dict_colors[\"red\"]), **dict_data_s}"
   ],
   "metadata": {
    "collapsed": false
   }
  },
  {
   "cell_type": "code",
   "execution_count": null,
   "outputs": [],
   "source": [
    "# METRICS\n",
    "print_metrics(path_res=path_res, dict_res=dict_res_s, list_metrics=list_metrics)"
   ],
   "metadata": {
    "collapsed": false
   }
  },
  {
   "cell_type": "code",
   "execution_count": null,
   "outputs": [],
   "source": [
    "# PLOT TIME SERIES\n",
    "with plt.rc_context(pl.params.single_days):\n",
    "    # Extreme days\n",
    "    _ = pl.plot_single_days(path_res=path_res,\n",
    "                            dict_res=dict_res_s,\n",
    "                            path_output=path_output,\n",
    "                            tz_plots=tz_plots,\n",
    "                            flag_cust_res=flag_cust_res,\n",
    "                            flag_hp=False,\n",
    "                            list_colors=colors_single_days,\n",
    "                            lw_legend_frame=0.2)"
   ],
   "metadata": {
    "collapsed": false
   }
  },
  {
   "cell_type": "code",
   "execution_count": null,
   "outputs": [],
   "source": [
    "# PLOT DURATION CURVE\n",
    "with plt.rc_context(pl.params.duration):\n",
    "    fig, ax = pl.plot_multiple_duration_curves(dict_data=dict_data_s,\n",
    "                                               col=\"p_tot\",\n",
    "                                               flag_axins_max=True,\n",
    "                                               flag_axins_min=True,\n",
    "                                               axins_max=[0.5, 0.7, 0.48, 0.25],\n",
    "                                               axins_min=[0.1, 0.17, 0.48, 0.25],\n",
    "                                               axins_max_cords=[-0.05, 0.5, 40, 80],\n",
    "                                               axins_min_cords=[99.5, 100.05, -30, -20],\n",
    "                                               axins_x_loc=0.2,\n",
    "                                               axins_y_loc=20,\n",
    "                                               ylim=(-40, 75),\n",
    "                                               figsize=(3.3, 1.2), # a bit higher because of additional inset\n",
    "                                               path_output=path_output / f\"{dict_res_s['rl']['dir'].split('/')[0]}_duration.png\"\n",
    "                                               )"
   ],
   "metadata": {
    "collapsed": false
   }
  },
  {
   "cell_type": "code",
   "execution_count": null,
   "outputs": [],
   "source": [
    "# PLOT MEAN DAILY PROFILES\n",
    "list_cols = [[\"p_tot\", \"$P^{\\mathrm{tot}}$\"],\n",
    "             [\"p_wh\", \"$P^{\\mathrm{EWH}}$\"],\n",
    "             [\"p_ev\", \"$P^{\\mathrm{EV}}$\"]]\n",
    "with plt.rc_context(pl.params.mean_daily):\n",
    "    _ = pl.plot_mean_daily(dict_data=dict_data_s,\n",
    "                           list_cols=list_cols,\n",
    "                           fontsize_ylabel=7,\n",
    "                           alpha=alpha_mean_daily,\n",
    "                           args_legend={\"loc\": \"center\",\n",
    "                                        \"bbox_to_anchor\": (0.45, 0.98),\n",
    "                                        \"ncol\": 4,\n",
    "                                        \"columnspacing\": 0.64,\n",
    "                                        \"borderpad\": 0.3\n",
    "                                        },\n",
    "                           figsize=(2.15, 1.1),\n",
    "                           path_output=path_output / f\"{dict_res_s['rl']['dir'].split('/')[0]}_mean_daily.png\"\n",
    "                           )"
   ],
   "metadata": {
    "collapsed": false
   }
  },
  {
   "cell_type": "code",
   "execution_count": null,
   "outputs": [],
   "source": [
    "# HEATMAP PRICE\n",
    "with plt.rc_context(pl.params.heatmap):\n",
    "    fig = pl.HeatmapFigure(series=dict_data_s[\"RL agent\"][0].loc[:, \"price_n\"],\n",
    "                           figsize=(1, 1.1),\n",
    "                           flag_histx=False,\n",
    "                           flag_histy=False,\n",
    "                           cbar_label=\"\",\n",
    "                           annotate_suntimes=False,\n",
    "                           )\n",
    "    # Adjustments\n",
    "    fig.ax_heatmap.xaxis.set_major_formatter(mdates.DateFormatter(\"%b '%y\"))\n",
    "    fig.ax_heatmap.xaxis.set_major_locator(mdates.MonthLocator(interval=1))\n",
    "    fig.ax_heatmap.xaxis.set_minor_locator(mdates.MonthLocator())\n",
    "    fig.savefig(path_output / f\"{dict_res_s['rl']['dir'].split('/')[0]}_heatmap_price_n.png\")"
   ],
   "metadata": {
    "collapsed": false
   }
  },
  {
   "cell_type": "code",
   "execution_count": null,
   "outputs": [],
   "source": [],
   "metadata": {
    "collapsed": false
   }
  }
 ],
 "metadata": {
  "kernelspec": {
   "display_name": "Python 3",
   "language": "python",
   "name": "python3"
  },
  "language_info": {
   "codemirror_mode": {
    "name": "ipython",
    "version": 2
   },
   "file_extension": ".py",
   "mimetype": "text/x-python",
   "name": "python",
   "nbconvert_exporter": "python",
   "pygments_lexer": "ipython2",
   "version": "2.7.6"
  }
 },
 "nbformat": 4,
 "nbformat_minor": 0
}
